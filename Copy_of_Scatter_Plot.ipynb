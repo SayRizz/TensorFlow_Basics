{
  "nbformat": 4,
  "nbformat_minor": 0,
  "metadata": {
    "colab": {
      "provenance": [],
      "authorship_tag": "ABX9TyPV0bR5t5YAQKz+ZPN9NpN9",
      "include_colab_link": true
    },
    "kernelspec": {
      "name": "python3",
      "display_name": "Python 3"
    },
    "language_info": {
      "name": "python"
    }
  },
  "cells": [
    {
      "cell_type": "markdown",
      "metadata": {
        "id": "view-in-github",
        "colab_type": "text"
      },
      "source": [
        "<a href=\"https://colab.research.google.com/github/SayRizz/TensorFlow_Basics/blob/main/Copy_of_Scatter_Plot.ipynb\" target=\"_parent\"><img src=\"https://colab.research.google.com/assets/colab-badge.svg\" alt=\"Open In Colab\"/></a>"
      ]
    },
    {
      "cell_type": "code",
      "execution_count": null,
      "metadata": {
        "id": "P1r23TUrEzUT"
      },
      "outputs": [],
      "source": [
        "import tensorflow as tf\n",
        "import numpy as np\n",
        "import matplotlib.pyplot as plt"
      ]
    },
    {
      "cell_type": "markdown",
      "source": [
        "Create Features"
      ],
      "metadata": {
        "id": "MbnHJ__HFQGq"
      }
    },
    {
      "cell_type": "code",
      "source": [
        "X=np.array([-7.0, -4.0, -1.0, 2.0, 5.0, 8.0, 11.0, 14.0])"
      ],
      "metadata": {
        "id": "kGkCRWZcFSvl"
      },
      "execution_count": null,
      "outputs": []
    },
    {
      "cell_type": "markdown",
      "source": [
        "Create Labels"
      ],
      "metadata": {
        "id": "Dr3Ywr8LFjVL"
      }
    },
    {
      "cell_type": "code",
      "source": [
        "y = np.array([3.0, 6.0, 9.0, 12.0, 15.0, 18.0, 21.0, 24.0])"
      ],
      "metadata": {
        "id": "a41EIjMHFmIn"
      },
      "execution_count": null,
      "outputs": []
    },
    {
      "cell_type": "markdown",
      "source": [
        "Scatter Plot"
      ],
      "metadata": {
        "id": "vQ214K25Fw5R"
      }
    },
    {
      "cell_type": "code",
      "source": [
        "plt.scatter (X,y)"
      ],
      "metadata": {
        "colab": {
          "base_uri": "https://localhost:8080/",
          "height": 453
        },
        "id": "4QyiOUr7FzqA",
        "outputId": "87f90626-dfbb-4aab-9fa0-f133a3ce19f3"
      },
      "execution_count": null,
      "outputs": [
        {
          "output_type": "execute_result",
          "data": {
            "text/plain": [
              "<matplotlib.collections.PathCollection at 0x7af5fc9e4e50>"
            ]
          },
          "metadata": {},
          "execution_count": 4
        },
        {
          "output_type": "display_data",
          "data": {
            "text/plain": [
              "<Figure size 640x480 with 1 Axes>"
            ],
            "image/png": "[encoded data removed]"
          },
          "metadata": {}
        }
      ]
    },
    {
      "cell_type": "markdown",
      "source": [
        "Input & Output of the model"
      ],
      "metadata": {
        "id": "pK9gIzACGJxw"
      }
    },
    {
      "cell_type": "code",
      "source": [
        "house_info = tf.constant([\"Bedroom\", \"Bathroom\", \"Garage\"])\n",
        "house_price = tf.constant([939700])\n",
        "house_info, house_price"
      ],
      "metadata": {
        "colab": {
          "base_uri": "https://localhost:8080/"
        },
        "id": "7xYI_hx8GPUy",
        "outputId": "00ca99fd-c2cc-4fc3-f4fa-f8e009402175"
      },
      "execution_count": null,
      "outputs": [
        {
          "output_type": "execute_result",
          "data": {
            "text/plain": [
              "(<tf.Tensor: shape=(3,), dtype=string, numpy=array([b'Bedroom', b'Bathroom', b'Garage'], dtype=object)>,\n",
              " <tf.Tensor: shape=(1,), dtype=int32, numpy=array([939700], dtype=int32)>)"
            ]
          },
          "metadata": {},
          "execution_count": 5
        }
      ]
    },
    {
      "cell_type": "markdown",
      "source": [
        "Create Features (Using Tensors)"
      ],
      "metadata": {
        "id": "CE6Zehu2G9Jb"
      }
    },
    {
      "cell_type": "code",
      "source": [
        "X=tf.constant([[-7.0, -4.0, -1.0, 2.0, 5.0, 8.0, 11.0, 14.0],[-8.0, -5.0, -2.0, 1.0, 4.0, 7.0, 11.0, 14.0]],dtype=tf.float32)"
      ],
      "metadata": {
        "id": "ILL1UVQ_HCbL"
      },
      "execution_count": null,
      "outputs": []
    },
    {
      "cell_type": "markdown",
      "source": [
        "Create Labels (Using Tensors)"
      ],
      "metadata": {
        "id": "bPUnDiXGHPpj"
      }
    },
    {
      "cell_type": "code",
      "source": [
        "y=tf.constant([[3.0, 6.0, 9.0, 12.0, 15.0, 18.0, 21.0, 24.0],[-8.0, -5.0, -2.0, 1.0, 4.0, 7.0, 11.0, 14.0]],dtype=tf.float32)"
      ],
      "metadata": {
        "id": "RCJ8TiJFHbZb"
      },
      "execution_count": null,
      "outputs": []
    },
    {
      "cell_type": "code",
      "source": [
        "X, y"
      ],
      "metadata": {
        "colab": {
          "base_uri": "https://localhost:8080/"
        },
        "id": "I45OFVnkJsfg",
        "outputId": "bfce099a-3f9b-4fcb-9744-5141d4ab71f6"
      },
      "execution_count": null,
      "outputs": [
        {
          "output_type": "execute_result",
          "data": {
            "text/plain": [
              "(<tf.Tensor: shape=(2, 8), dtype=float32, numpy=\n",
              " array([[-7., -4., -1.,  2.,  5.,  8., 11., 14.],\n",
              "        [-8., -5., -2.,  1.,  4.,  7., 11., 14.]], dtype=float32)>,\n",
              " <tf.Tensor: shape=(2, 8), dtype=float32, numpy=\n",
              " array([[ 3.,  6.,  9., 12., 15., 18., 21., 24.],\n",
              "        [-8., -5., -2.,  1.,  4.,  7., 11., 14.]], dtype=float32)>)"
            ]
          },
          "metadata": {},
          "execution_count": 8
        }
      ]
    },
    {
      "cell_type": "code",
      "source": [
        "X[0].shape, y[0].shape"
      ],
      "metadata": {
        "colab": {
          "base_uri": "https://localhost:8080/"
        },
        "id": "XIPj17RFOEL6",
        "outputId": "9c2fbee7-4a2f-4d4c-8c1f-064b5b4296e8"
      },
      "execution_count": null,
      "outputs": [
        {
          "output_type": "execute_result",
          "data": {
            "text/plain": [
              "(TensorShape([8]), TensorShape([8]))"
            ]
          },
          "metadata": {},
          "execution_count": 9
        }
      ]
    },
    {
      "cell_type": "markdown",
      "source": [
        "#Above both don't have shape because they are a single quantity called SCALAR"
      ],
      "metadata": {
        "id": "vx2QpgJ6OlBO"
      }
    },
    {
      "cell_type": "code",
      "source": [
        "tf.random.set_seed(42)"
      ],
      "metadata": {
        "id": "fOAqEXnL8b8b"
      },
      "execution_count": null,
      "outputs": []
    },
    {
      "cell_type": "markdown",
      "source": [
        "Create a model using sequential API"
      ],
      "metadata": {
        "id": "UCcL-JtO8rIS"
      }
    },
    {
      "cell_type": "code",
      "source": [
        "model = tf.keras.Sequential([\n",
        "    tf.keras.layers.Dense(1)\n",
        "])"
      ],
      "metadata": {
        "id": "__ana4SC8iB2"
      },
      "execution_count": null,
      "outputs": []
    },
    {
      "cell_type": "markdown",
      "source": [
        "Compile the model"
      ],
      "metadata": {
        "id": "GmU3KpLg9Ooq"
      }
    },
    {
      "cell_type": "code",
      "source": [
        "model.compile(loss=tf.keras.losses.mae,\n",
        "              optimizer=tf.keras.optimizers.SGD(),\n",
        "              metrics=[\"mae\"])"
      ],
      "metadata": {
        "id": "mT2cqqrLFpI4"
      },
      "execution_count": null,
      "outputs": []
    },
    {
      "cell_type": "markdown",
      "source": [
        "Fit the model"
      ],
      "metadata": {
        "id": "b17aoPjiGjkM"
      }
    },
    {
      "cell_type": "code",
      "source": [
        "model.fit(X,y,epochs=5)"
      ],
      "metadata": {
        "colab": {
          "base_uri": "https://localhost:8080/"
        },
        "id": "Feb4tvY_GoNk",
        "outputId": "d50a1e98-8788-47fe-e2de-da8288783a8d"
      },
      "execution_count": null,
      "outputs": [
        {
          "output_type": "stream",
          "name": "stdout",
          "text": [
            "Epoch 1/5\n",
            "1/1 [==============================] - 1s 1s/step - loss: 7.9305 - mae: 7.9305\n",
            "Epoch 2/5\n",
            "1/1 [==============================] - 0s 22ms/step - loss: 7.4705 - mae: 7.4705\n",
            "Epoch 3/5\n",
            "1/1 [==============================] - 0s 20ms/step - loss: 7.3941 - mae: 7.3941\n",
            "Epoch 4/5\n",
            "1/1 [==============================] - 0s 31ms/step - loss: 7.3176 - mae: 7.3176\n",
            "Epoch 5/5\n",
            "1/1 [==============================] - 0s 22ms/step - loss: 7.2412 - mae: 7.2412\n"
          ]
        },
        {
          "output_type": "execute_result",
          "data": {
            "text/plain": [
              "<keras.callbacks.History at 0x7af5eb7991b0>"
            ]
          },
          "metadata": {},
          "execution_count": 13
        }
      ]
    },
    {
      "cell_type": "markdown",
      "source": [
        "Try and make prediction using our model"
      ],
      "metadata": {
        "id": "mkcjoyulL3Cs"
      }
    },
    {
      "cell_type": "code",
      "source": [
        "model.predict([[-17.0, -20.0, -23.0, -26.0, -30.0, 40.0, 80, 19],[-17.0, -20.0, -23.0, -26.0, -30.0, 40.0, 80, 19]])"
      ],
      "metadata": {
        "colab": {
          "base_uri": "https://localhost:8080/"
        },
        "id": "t3V0BtZDL6f-",
        "outputId": "ceec96e9-e17a-4492-bc8c-8e7e49db3112"
      },
      "execution_count": null,
      "outputs": [
        {
          "output_type": "stream",
          "name": "stdout",
          "text": [
            "1/1 [==============================] - 0s 149ms/step\n"
          ]
        },
        {
          "output_type": "execute_result",
          "data": {
            "text/plain": [
              "array([[17.798616],\n",
              "       [17.798616]], dtype=float32)"
            ]
          },
          "metadata": {},
          "execution_count": 14
        }
      ]
    },
    {
      "cell_type": "markdown",
      "source": [
        "Improve our Model"
      ],
      "metadata": {
        "id": "3RdlG_KMH5w0"
      }
    },
    {
      "cell_type": "code",
      "source": [
        "model = tf.keras.Sequential([\n",
        "    tf.keras.layers.Dense(100, activation=\"relu\"),\n",
        "    tf.keras.layers.Dense(100, activation=\"relu\"),\n",
        "    tf.keras.layers.Dense(100, activation=\"relu\"),\n",
        "    tf.keras.layers.Dense(1)\n",
        "])"
      ],
      "metadata": {
        "id": "CWDbV8z_H7_f"
      },
      "execution_count": null,
      "outputs": []
    },
    {
      "cell_type": "code",
      "source": [
        "model.compile(loss=tf.keras.losses.mae,\n",
        "              optimizer=tf.keras.optimizers.Adam(lr=0.001),\n",
        "              metrics=[\"mae\"])"
      ],
      "metadata": {
        "id": "H26goehdIX0U",
        "outputId": "714ebc07-a8b6-43bb-a573-2a067e38e825",
        "colab": {
          "base_uri": "https://localhost:8080/"
        }
      },
      "execution_count": null,
      "outputs": [
        {
          "output_type": "stream",
          "name": "stderr",
          "text": [
            "WARNING:absl:`lr` is deprecated in Keras optimizer, please use `learning_rate` or use the legacy optimizer, e.g.,tf.keras.optimizers.legacy.Adam.\n"
          ]
        }
      ]
    },
    {
      "cell_type": "code",
      "source": [
        "model.fit(X, y, epochs=100)"
      ],
      "metadata": {
        "id": "e9i4dIlaJP8n",
        "outputId": "0fdca7f0-a9fe-401a-e954-3f420ece0e38",
        "colab": {
          "base_uri": "https://localhost:8080/"
        }
      },
      "execution_count": null,
      "outputs": [
        {
          "output_type": "stream",
          "name": "stdout",
          "text": [
            "Epoch 1/100\n",
            "1/1 [==============================] - 1s 1s/step - loss: 10.4773 - mae: 10.4773\n",
            "Epoch 2/100\n",
            "1/1 [==============================] - 0s 16ms/step - loss: 9.6887 - mae: 9.6887\n",
            "Epoch 3/100\n",
            "1/1 [==============================] - 0s 13ms/step - loss: 9.0322 - mae: 9.0322\n",
            "Epoch 4/100\n",
            "1/1 [==============================] - 0s 11ms/step - loss: 8.4563 - mae: 8.4563\n",
            "Epoch 5/100\n",
            "1/1 [==============================] - 0s 16ms/step - loss: 8.0097 - mae: 8.0097\n",
            "Epoch 6/100\n",
            "1/1 [==============================] - 0s 11ms/step - loss: 7.7331 - mae: 7.7331\n",
            "Epoch 7/100\n",
            "1/1 [==============================] - 0s 15ms/step - loss: 7.4803 - mae: 7.4803\n",
            "Epoch 8/100\n",
            "1/1 [==============================] - 0s 13ms/step - loss: 7.3688 - mae: 7.3688\n",
            "Epoch 9/100\n",
            "1/1 [==============================] - 0s 11ms/step - loss: 7.3580 - mae: 7.3580\n",
            "Epoch 10/100\n",
            "1/1 [==============================] - 0s 14ms/step - loss: 7.3458 - mae: 7.3458\n",
            "Epoch 11/100\n",
            "1/1 [==============================] - 0s 13ms/step - loss: 7.4054 - mae: 7.4054\n",
            "Epoch 12/100\n",
            "1/1 [==============================] - 0s 10ms/step - loss: 7.4384 - mae: 7.4384\n",
            "Epoch 13/100\n",
            "1/1 [==============================] - 0s 11ms/step - loss: 7.4482 - mae: 7.4482\n",
            "Epoch 14/100\n",
            "1/1 [==============================] - 0s 12ms/step - loss: 7.4424 - mae: 7.4424\n",
            "Epoch 15/100\n",
            "1/1 [==============================] - 0s 13ms/step - loss: 7.4181 - mae: 7.4181\n",
            "Epoch 16/100\n",
            "1/1 [==============================] - 0s 10ms/step - loss: 7.3820 - mae: 7.3820\n",
            "Epoch 17/100\n",
            "1/1 [==============================] - 0s 10ms/step - loss: 7.3302 - mae: 7.3302\n",
            "Epoch 18/100\n",
            "1/1 [==============================] - 0s 9ms/step - loss: 7.2600 - mae: 7.2600\n",
            "Epoch 19/100\n",
            "1/1 [==============================] - 0s 13ms/step - loss: 7.2403 - mae: 7.2403\n",
            "Epoch 20/100\n",
            "1/1 [==============================] - 0s 10ms/step - loss: 7.2351 - mae: 7.2351\n",
            "Epoch 21/100\n",
            "1/1 [==============================] - 0s 10ms/step - loss: 7.2192 - mae: 7.2192\n",
            "Epoch 22/100\n",
            "1/1 [==============================] - 0s 12ms/step - loss: 7.2315 - mae: 7.2315\n",
            "Epoch 23/100\n",
            "1/1 [==============================] - 0s 11ms/step - loss: 7.2499 - mae: 7.2499\n",
            "Epoch 24/100\n",
            "1/1 [==============================] - 0s 11ms/step - loss: 7.2521 - mae: 7.2521\n",
            "Epoch 25/100\n",
            "1/1 [==============================] - 0s 9ms/step - loss: 7.2388 - mae: 7.2388\n",
            "Epoch 26/100\n",
            "1/1 [==============================] - 0s 15ms/step - loss: 7.2127 - mae: 7.2127\n",
            "Epoch 27/100\n",
            "1/1 [==============================] - 0s 14ms/step - loss: 7.1749 - mae: 7.1749\n",
            "Epoch 28/100\n",
            "1/1 [==============================] - 0s 11ms/step - loss: 7.1484 - mae: 7.1484\n",
            "Epoch 29/100\n",
            "1/1 [==============================] - 0s 17ms/step - loss: 7.1374 - mae: 7.1374\n",
            "Epoch 30/100\n",
            "1/1 [==============================] - 0s 11ms/step - loss: 7.1256 - mae: 7.1256\n",
            "Epoch 31/100\n",
            "1/1 [==============================] - 0s 12ms/step - loss: 7.1146 - mae: 7.1146\n",
            "Epoch 32/100\n",
            "1/1 [==============================] - 0s 12ms/step - loss: 7.1316 - mae: 7.1316\n",
            "Epoch 33/100\n",
            "1/1 [==============================] - 0s 10ms/step - loss: 7.1300 - mae: 7.1300\n",
            "Epoch 34/100\n",
            "1/1 [==============================] - 0s 10ms/step - loss: 7.1111 - mae: 7.1111\n",
            "Epoch 35/100\n",
            "1/1 [==============================] - 0s 11ms/step - loss: 7.0770 - mae: 7.0770\n",
            "Epoch 36/100\n",
            "1/1 [==============================] - 0s 12ms/step - loss: 7.0458 - mae: 7.0458\n",
            "Epoch 37/100\n",
            "1/1 [==============================] - 0s 9ms/step - loss: 7.0317 - mae: 7.0317\n",
            "Epoch 38/100\n",
            "1/1 [==============================] - 0s 12ms/step - loss: 7.0215 - mae: 7.0215\n",
            "Epoch 39/100\n",
            "1/1 [==============================] - 0s 12ms/step - loss: 7.0214 - mae: 7.0214\n",
            "Epoch 40/100\n",
            "1/1 [==============================] - 0s 11ms/step - loss: 7.0012 - mae: 7.0012\n",
            "Epoch 41/100\n",
            "1/1 [==============================] - 0s 11ms/step - loss: 6.9685 - mae: 6.9685\n",
            "Epoch 42/100\n",
            "1/1 [==============================] - 0s 11ms/step - loss: 6.9509 - mae: 6.9509\n",
            "Epoch 43/100\n",
            "1/1 [==============================] - 0s 12ms/step - loss: 6.9426 - mae: 6.9426\n",
            "Epoch 44/100\n",
            "1/1 [==============================] - 0s 11ms/step - loss: 6.9290 - mae: 6.9290\n",
            "Epoch 45/100\n",
            "1/1 [==============================] - 0s 11ms/step - loss: 6.8962 - mae: 6.8962\n",
            "Epoch 46/100\n",
            "1/1 [==============================] - 0s 11ms/step - loss: 6.9030 - mae: 6.9030\n",
            "Epoch 47/100\n",
            "1/1 [==============================] - 0s 12ms/step - loss: 6.9012 - mae: 6.9012\n",
            "Epoch 48/100\n",
            "1/1 [==============================] - 0s 11ms/step - loss: 6.8776 - mae: 6.8776\n",
            "Epoch 49/100\n",
            "1/1 [==============================] - 0s 10ms/step - loss: 6.8447 - mae: 6.8447\n",
            "Epoch 50/100\n",
            "1/1 [==============================] - 0s 13ms/step - loss: 6.8357 - mae: 6.8357\n",
            "Epoch 51/100\n",
            "1/1 [==============================] - 0s 12ms/step - loss: 6.8237 - mae: 6.8237\n",
            "Epoch 52/100\n",
            "1/1 [==============================] - 0s 11ms/step - loss: 6.8131 - mae: 6.8131\n",
            "Epoch 53/100\n",
            "1/1 [==============================] - 0s 8ms/step - loss: 6.8024 - mae: 6.8024\n",
            "Epoch 54/100\n",
            "1/1 [==============================] - 0s 9ms/step - loss: 6.7915 - mae: 6.7915\n",
            "Epoch 55/100\n",
            "1/1 [==============================] - 0s 11ms/step - loss: 6.7800 - mae: 6.7800\n",
            "Epoch 56/100\n",
            "1/1 [==============================] - 0s 10ms/step - loss: 6.7682 - mae: 6.7682\n",
            "Epoch 57/100\n",
            "1/1 [==============================] - 0s 10ms/step - loss: 6.7559 - mae: 6.7559\n",
            "Epoch 58/100\n",
            "1/1 [==============================] - 0s 10ms/step - loss: 6.7433 - mae: 6.7433\n",
            "Epoch 59/100\n",
            "1/1 [==============================] - 0s 10ms/step - loss: 6.7312 - mae: 6.7312\n",
            "Epoch 60/100\n",
            "1/1 [==============================] - 0s 12ms/step - loss: 6.7188 - mae: 6.7188\n",
            "Epoch 61/100\n",
            "1/1 [==============================] - 0s 13ms/step - loss: 6.7060 - mae: 6.7060\n",
            "Epoch 62/100\n",
            "1/1 [==============================] - 0s 11ms/step - loss: 6.6928 - mae: 6.6928\n",
            "Epoch 63/100\n",
            "1/1 [==============================] - 0s 10ms/step - loss: 6.6792 - mae: 6.6792\n",
            "Epoch 64/100\n",
            "1/1 [==============================] - 0s 10ms/step - loss: 6.6651 - mae: 6.6651\n",
            "Epoch 65/100\n",
            "1/1 [==============================] - 0s 10ms/step - loss: 6.6505 - mae: 6.6505\n",
            "Epoch 66/100\n",
            "1/1 [==============================] - 0s 9ms/step - loss: 6.6360 - mae: 6.6360\n",
            "Epoch 67/100\n",
            "1/1 [==============================] - 0s 11ms/step - loss: 6.6198 - mae: 6.6198\n",
            "Epoch 68/100\n",
            "1/1 [==============================] - 0s 11ms/step - loss: 6.6036 - mae: 6.6036\n",
            "Epoch 69/100\n",
            "1/1 [==============================] - 0s 12ms/step - loss: 6.5870 - mae: 6.5870\n",
            "Epoch 70/100\n",
            "1/1 [==============================] - 0s 10ms/step - loss: 6.5693 - mae: 6.5693\n",
            "Epoch 71/100\n",
            "1/1 [==============================] - 0s 10ms/step - loss: 6.5515 - mae: 6.5515\n",
            "Epoch 72/100\n",
            "1/1 [==============================] - 0s 11ms/step - loss: 6.5330 - mae: 6.5330\n",
            "Epoch 73/100\n",
            "1/1 [==============================] - 0s 11ms/step - loss: 6.5125 - mae: 6.5125\n",
            "Epoch 74/100\n",
            "1/1 [==============================] - 0s 10ms/step - loss: 6.4924 - mae: 6.4924\n",
            "Epoch 75/100\n",
            "1/1 [==============================] - 0s 10ms/step - loss: 6.4712 - mae: 6.4712\n",
            "Epoch 76/100\n",
            "1/1 [==============================] - 0s 11ms/step - loss: 6.4486 - mae: 6.4486\n",
            "Epoch 77/100\n",
            "1/1 [==============================] - 0s 10ms/step - loss: 6.4257 - mae: 6.4257\n",
            "Epoch 78/100\n",
            "1/1 [==============================] - 0s 14ms/step - loss: 6.4010 - mae: 6.4010\n",
            "Epoch 79/100\n",
            "1/1 [==============================] - 0s 10ms/step - loss: 6.3758 - mae: 6.3758\n",
            "Epoch 80/100\n",
            "1/1 [==============================] - 0s 10ms/step - loss: 6.3491 - mae: 6.3491\n",
            "Epoch 81/100\n",
            "1/1 [==============================] - 0s 11ms/step - loss: 6.3211 - mae: 6.3211\n",
            "Epoch 82/100\n",
            "1/1 [==============================] - 0s 12ms/step - loss: 6.2916 - mae: 6.2916\n",
            "Epoch 83/100\n",
            "1/1 [==============================] - 0s 10ms/step - loss: 6.2781 - mae: 6.2781\n",
            "Epoch 84/100\n",
            "1/1 [==============================] - 0s 11ms/step - loss: 6.2376 - mae: 6.2376\n",
            "Epoch 85/100\n",
            "1/1 [==============================] - 0s 11ms/step - loss: 6.2120 - mae: 6.2120\n",
            "Epoch 86/100\n",
            "1/1 [==============================] - 0s 10ms/step - loss: 6.2200 - mae: 6.2200\n",
            "Epoch 87/100\n",
            "1/1 [==============================] - 0s 11ms/step - loss: 6.1638 - mae: 6.1638\n",
            "Epoch 88/100\n",
            "1/1 [==============================] - 0s 10ms/step - loss: 6.1923 - mae: 6.1923\n",
            "Epoch 89/100\n",
            "1/1 [==============================] - 0s 11ms/step - loss: 6.2033 - mae: 6.2033\n",
            "Epoch 90/100\n",
            "1/1 [==============================] - 0s 10ms/step - loss: 6.1422 - mae: 6.1422\n",
            "Epoch 91/100\n",
            "1/1 [==============================] - 0s 10ms/step - loss: 6.1309 - mae: 6.1309\n",
            "Epoch 92/100\n",
            "1/1 [==============================] - 0s 11ms/step - loss: 6.1474 - mae: 6.1474\n",
            "Epoch 93/100\n",
            "1/1 [==============================] - 0s 11ms/step - loss: 6.1250 - mae: 6.1250\n",
            "Epoch 94/100\n",
            "1/1 [==============================] - 0s 11ms/step - loss: 6.1250 - mae: 6.1250\n",
            "Epoch 95/100\n",
            "1/1 [==============================] - 0s 11ms/step - loss: 6.1250 - mae: 6.1250\n",
            "Epoch 96/100\n",
            "1/1 [==============================] - 0s 11ms/step - loss: 6.1250 - mae: 6.1250\n",
            "Epoch 97/100\n",
            "1/1 [==============================] - 0s 13ms/step - loss: 6.1250 - mae: 6.1250\n",
            "Epoch 98/100\n",
            "1/1 [==============================] - 0s 11ms/step - loss: 6.1250 - mae: 6.1250\n",
            "Epoch 99/100\n",
            "1/1 [==============================] - 0s 11ms/step - loss: 6.1357 - mae: 6.1357\n",
            "Epoch 100/100\n",
            "1/1 [==============================] - 0s 11ms/step - loss: 6.1250 - mae: 6.1250\n"
          ]
        },
        {
          "output_type": "execute_result",
          "data": {
            "text/plain": [
              "<keras.callbacks.History at 0x7af5e5388af0>"
            ]
          },
          "metadata": {},
          "execution_count": 20
        }
      ]
    },
    {
      "cell_type": "markdown",
      "source": [
        "Lets see how much our model has improved"
      ],
      "metadata": {
        "id": "CU4EEI49UV4N"
      }
    },
    {
      "cell_type": "code",
      "source": [
        "model.predict([[-17.0, -20.0, -23.0, -26.0, -30.0, 40.0, 80, 19],[-17.0, -20.0, -23.0, -26.0, -30.0, 40.0, 80, 19]])"
      ],
      "metadata": {
        "id": "UmzWiGiWUGhu",
        "outputId": "8d6b02fe-cf0a-42ca-8624-926d5989f460",
        "colab": {
          "base_uri": "https://localhost:8080/"
        }
      },
      "execution_count": null,
      "outputs": [
        {
          "output_type": "stream",
          "name": "stdout",
          "text": [
            "1/1 [==============================] - 0s 199ms/step\n"
          ]
        },
        {
          "output_type": "execute_result",
          "data": {
            "text/plain": [
              "array([[-22.2887],\n",
              "       [-22.2887]], dtype=float32)"
            ]
          },
          "metadata": {},
          "execution_count": 21
        }
      ]
    }
  ]
}