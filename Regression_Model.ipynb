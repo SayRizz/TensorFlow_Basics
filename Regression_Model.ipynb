{
  "nbformat": 4,
  "nbformat_minor": 0,
  "metadata": {
    "colab": {
      "provenance": [],
      "authorship_tag": "ABX9TyMC/0xNTbxjr2wShMlmE1U1",
      "include_colab_link": true
    },
    "kernelspec": {
      "name": "python3",
      "display_name": "Python 3"
    },
    "language_info": {
      "name": "python"
    }
  },
  "cells": [
    {
      "cell_type": "markdown",
      "metadata": {
        "id": "view-in-github",
        "colab_type": "text"
      },
      "source": [
        "<a href=\"https://colab.research.google.com/github/SayRizz/TensorFlow_Basics/blob/main/Regression_Model.ipynb\" target=\"_parent\"><img src=\"https://colab.research.google.com/assets/colab-badge.svg\" alt=\"Open In Colab\"/></a>"
      ]
    },
    {
      "cell_type": "code",
      "execution_count": 1,
      "metadata": {
        "id": "lcmxICh1ggj4"
      },
      "outputs": [],
      "source": [
        "import numpy as np\n",
        "import tensorflow as tf\n",
        "import matplotlib.pyplot as plt"
      ]
    },
    {
      "cell_type": "code",
      "source": [
        "X = np.arange(-100, 100, 4)\n",
        "X"
      ],
      "metadata": {
        "colab": {
          "base_uri": "https://localhost:8080/"
        },
        "id": "PqO0Nj_GLS4f",
        "outputId": "e04f36cd-303d-4d12-dbe6-5ddeaa7e9ec7"
      },
      "execution_count": 2,
      "outputs": [
        {
          "output_type": "execute_result",
          "data": {
            "text/plain": [
              "array([-100,  -96,  -92,  -88,  -84,  -80,  -76,  -72,  -68,  -64,  -60,\n",
              "        -56,  -52,  -48,  -44,  -40,  -36,  -32,  -28,  -24,  -20,  -16,\n",
              "        -12,   -8,   -4,    0,    4,    8,   12,   16,   20,   24,   28,\n",
              "         32,   36,   40,   44,   48,   52,   56,   60,   64,   68,   72,\n",
              "         76,   80,   84,   88,   92,   96])"
            ]
          },
          "metadata": {},
          "execution_count": 2
        }
      ]
    },
    {
      "cell_type": "code",
      "source": [
        "y = np.arange(-90, 110, 4)\n",
        "y"
      ],
      "metadata": {
        "colab": {
          "base_uri": "https://localhost:8080/"
        },
        "id": "6vY3tiPzLgh0",
        "outputId": "178ec797-d643-4fc8-95f9-9be727df0b73"
      },
      "execution_count": 3,
      "outputs": [
        {
          "output_type": "execute_result",
          "data": {
            "text/plain": [
              "array([-90, -86, -82, -78, -74, -70, -66, -62, -58, -54, -50, -46, -42,\n",
              "       -38, -34, -30, -26, -22, -18, -14, -10,  -6,  -2,   2,   6,  10,\n",
              "        14,  18,  22,  26,  30,  34,  38,  42,  46,  50,  54,  58,  62,\n",
              "        66,  70,  74,  78,  82,  86,  90,  94,  98, 102, 106])"
            ]
          },
          "metadata": {},
          "execution_count": 3
        }
      ]
    },
    {
      "cell_type": "code",
      "source": [
        "y = X+10\n",
        "y"
      ],
      "metadata": {
        "colab": {
          "base_uri": "https://localhost:8080/"
        },
        "id": "1ZkbDWmQLnPh",
        "outputId": "d2d6a346-9df4-4a9f-e67d-d3c81d2527c3"
      },
      "execution_count": 4,
      "outputs": [
        {
          "output_type": "execute_result",
          "data": {
            "text/plain": [
              "array([-90, -86, -82, -78, -74, -70, -66, -62, -58, -54, -50, -46, -42,\n",
              "       -38, -34, -30, -26, -22, -18, -14, -10,  -6,  -2,   2,   6,  10,\n",
              "        14,  18,  22,  26,  30,  34,  38,  42,  46,  50,  54,  58,  62,\n",
              "        66,  70,  74,  78,  82,  86,  90,  94,  98, 102, 106])"
            ]
          },
          "metadata": {},
          "execution_count": 4
        }
      ]
    },
    {
      "cell_type": "code",
      "source": [
        "len (X)"
      ],
      "metadata": {
        "colab": {
          "base_uri": "https://localhost:8080/"
        },
        "id": "qF-B6l72L5bI",
        "outputId": "2268a917-1e7d-4960-b4e3-19855bc767c9"
      },
      "execution_count": 5,
      "outputs": [
        {
          "output_type": "execute_result",
          "data": {
            "text/plain": [
              "50"
            ]
          },
          "metadata": {},
          "execution_count": 5
        }
      ]
    },
    {
      "cell_type": "code",
      "source": [
        "X_train = X[:40]\n",
        "y_train = y[:40]\n",
        "\n",
        "X_test = X[40:]\n",
        "y_test = y[40:]\n",
        "\n",
        "len(X_train), len(y_train), len(X_test), len(y_test)"
      ],
      "metadata": {
        "colab": {
          "base_uri": "https://localhost:8080/"
        },
        "id": "Gla8UOvFMGZs",
        "outputId": "fa0f1a1c-b65e-4737-9f4a-f3363a49d5d9"
      },
      "execution_count": 6,
      "outputs": [
        {
          "output_type": "execute_result",
          "data": {
            "text/plain": [
              "(40, 40, 10, 10)"
            ]
          },
          "metadata": {},
          "execution_count": 6
        }
      ]
    },
    {
      "cell_type": "code",
      "source": [
        "plt.figure(figsize=(10,7))\n",
        "plt.scatter(X_train, y_train, c=\"b\", label=\"Training Data\")\n",
        "plt.scatter(X_test, y_test, c=\"g\", label=\"Testing Data\")\n",
        "plt.legend();"
      ],
      "metadata": {
        "colab": {
          "base_uri": "https://localhost:8080/",
          "height": 599
        },
        "id": "p2UNU7VbMqFd",
        "outputId": "a0f41550-85fe-4d89-dd53-1943f6154bb9"
      },
      "execution_count": 7,
      "outputs": [
        {
          "output_type": "display_data",
          "data": {
            "text/plain": [
              "<Figure size 1000x700 with 1 Axes>"
            ],
            "image/png": "[encoded data removed]"
          },
          "metadata": {}
        }
      ]
    },
    {
      "cell_type": "code",
      "source": [
        "tf.random.set_seed(42)\n",
        "\n",
        "model = tf.keras.Sequential([\n",
        "    tf.keras.layers.Dense(1, input_shape=[1])\n",
        "])\n",
        "\n",
        "model.compile(loss=tf.keras.losses.mae,\n",
        "               optimizer=tf.keras.optimizers.SGD(),\n",
        "              metrics=[\"mae\"])"
      ],
      "metadata": {
        "id": "XTvtJSuLOpXy"
      },
      "execution_count": 8,
      "outputs": []
    },
    {
      "cell_type": "code",
      "source": [
        "model.summary()"
      ],
      "metadata": {
        "colab": {
          "base_uri": "https://localhost:8080/"
        },
        "id": "gBoHTpwpPkUL",
        "outputId": "d9cba571-1a38-4780-96f9-29f1b209676c"
      },
      "execution_count": 9,
      "outputs": [
        {
          "output_type": "stream",
          "name": "stdout",
          "text": [
            "Model: \"sequential\"\n",
            "_________________________________________________________________\n",
            " Layer (type)                Output Shape              Param #   \n",
            "=================================================================\n",
            " dense (Dense)               (None, 1)                 2         \n",
            "                                                                 \n",
            "=================================================================\n",
            "Total params: 2\n",
            "Trainable params: 2\n",
            "Non-trainable params: 0\n",
            "_________________________________________________________________\n"
          ]
        }
      ]
    },
    {
      "cell_type": "code",
      "source": [
        "model.fit (X_train, y_train, epochs=100, verbose=0)"
      ],
      "metadata": {
        "colab": {
          "base_uri": "https://localhost:8080/"
        },
        "id": "MRLvxSYIQpVn",
        "outputId": "e85bc174-7b7d-4cfd-e7a8-2136b2b3c6e2"
      },
      "execution_count": 10,
      "outputs": [
        {
          "output_type": "execute_result",
          "data": {
            "text/plain": [
              "<keras.callbacks.History at 0x7e756e01a3e0>"
            ]
          },
          "metadata": {},
          "execution_count": 10
        }
      ]
    },
    {
      "cell_type": "code",
      "source": [
        "from tensorflow.keras.utils import plot_model\n",
        "plot_model(model, show_shapes=True)"
      ],
      "metadata": {
        "colab": {
          "base_uri": "https://localhost:8080/",
          "height": 201
        },
        "id": "DVhRCgIkQ6nr",
        "outputId": "ec72a5f5-0459-4132-e1db-cf6a90d534aa"
      },
      "execution_count": 11,
      "outputs": [
        {
          "output_type": "execute_result",
          "data": {
            "image/png": "[encoded data removed]",
            "text/plain": [
              "<IPython.core.display.Image object>"
            ]
          },
          "metadata": {},
          "execution_count": 11
        }
      ]
    },
    {
      "cell_type": "code",
      "source": [
        "y_preds = model.predict(X_test)\n",
        "y_preds"
      ],
      "metadata": {
        "colab": {
          "base_uri": "https://localhost:8080/"
        },
        "id": "z7Go5yb3RaNW",
        "outputId": "c86174af-757a-4109-e04d-e4ad2e7c7480"
      },
      "execution_count": 12,
      "outputs": [
        {
          "output_type": "stream",
          "name": "stdout",
          "text": [
            "1/1 [==============================] - 0s 78ms/step\n"
          ]
        },
        {
          "output_type": "execute_result",
          "data": {
            "text/plain": [
              "array([[ 74.58521 ],\n",
              "       [ 79.47131 ],\n",
              "       [ 84.357414],\n",
              "       [ 89.24351 ],\n",
              "       [ 94.12961 ],\n",
              "       [ 99.0157  ],\n",
              "       [103.9018  ],\n",
              "       [108.7879  ],\n",
              "       [113.673996],\n",
              "       [118.5601  ]], dtype=float32)"
            ]
          },
          "metadata": {},
          "execution_count": 12
        }
      ]
    },
    {
      "cell_type": "code",
      "source": [
        "def plot_predictions (train_data = X_train,\n",
        "                      train_labels = y_train,\n",
        "                      test_data = X_test,\n",
        "                      test_labels = y_test,\n",
        "                      predictions = y_preds):\n",
        "\n",
        "  plt.figure(figsize=(10, 7))\n",
        "  plt.scatter(train_data, train_labels, c=\"b\", label=\"Training data\")\n",
        "  plt.scatter(test_data, test_labels, c=\"g\", label=\"Testing data\")\n",
        "  plt.scatter(test_data, predictions, c=\"r\", label=\"Predictions\")\n",
        "\n",
        "  plt.legend();\n",
        ""
      ],
      "metadata": {
        "id": "IZacm9HzTNJX"
      },
      "execution_count": 13,
      "outputs": []
    },
    {
      "cell_type": "code",
      "source": [
        "plot_predictions(train_data=X_train,\n",
        "                 train_labels=y_train,\n",
        "                 test_data=X_test,\n",
        "                 test_labels=y_test,\n",
        "                 predictions=y_preds)"
      ],
      "metadata": {
        "colab": {
          "base_uri": "https://localhost:8080/",
          "height": 599
        },
        "id": "Pj5Of5z1U6fo",
        "outputId": "df84822c-cfc4-4624-a0f5-7233da187b66"
      },
      "execution_count": 14,
      "outputs": [
        {
          "output_type": "display_data",
          "data": {
            "text/plain": [
              "<Figure size 1000x700 with 1 Axes>"
            ],
            "image/png": "[encoded data removed]"
          },
          "metadata": {}
        }
      ]
    },
    {
      "cell_type": "code",
      "source": [
        "model.evaluate(X_test, y_test)"
      ],
      "metadata": {
        "colab": {
          "base_uri": "https://localhost:8080/"
        },
        "id": "HmfgWZNfZr-3",
        "outputId": "a5fd90fe-93ca-4483-af3f-7e389530dadf"
      },
      "execution_count": 15,
      "outputs": [
        {
          "output_type": "stream",
          "name": "stdout",
          "text": [
            "1/1 [==============================] - 0s 291ms/step - loss: 8.5727 - mae: 8.5727\n"
          ]
        },
        {
          "output_type": "execute_result",
          "data": {
            "text/plain": [
              "[8.57265567779541, 8.57265567779541]"
            ]
          },
          "metadata": {},
          "execution_count": 15
        }
      ]
    },
    {
      "cell_type": "code",
      "source": [
        "mae = tf.metrics.mean_absolute_error(y_true=y_test,\n",
        "                                   y_pred=y_preds)\n",
        "mae"
      ],
      "metadata": {
        "colab": {
          "base_uri": "https://localhost:8080/"
        },
        "id": "ExaxU7LDf6Ec",
        "outputId": "7a2e6c1c-e49b-46a9-c666-8775c872bc2a"
      },
      "execution_count": 16,
      "outputs": [
        {
          "output_type": "execute_result",
          "data": {
            "text/plain": [
              "<tf.Tensor: shape=(10,), dtype=float32, numpy=\n",
              "array([14.448873, 11.811475, 10.328517, 10.      , 10.851843, 13.00942 ,\n",
              "       16.321442, 20.787903, 25.673996, 30.560095], dtype=float32)>"
            ]
          },
          "metadata": {},
          "execution_count": 16
        }
      ]
    },
    {
      "cell_type": "markdown",
      "source": [
        "The output should be a single result but we are getting 10 results.\n",
        "This is because y_test and y_preds have different shape.\n",
        "To solve this issue we need to use \"squeeze\" function"
      ],
      "metadata": {
        "id": "TIFgTJuQgbRp"
      }
    },
    {
      "cell_type": "code",
      "source": [
        "y_test, y_preds"
      ],
      "metadata": {
        "colab": {
          "base_uri": "https://localhost:8080/"
        },
        "id": "dczIXRk8gaX2",
        "outputId": "17771560-55aa-4d1e-ed2c-be3a7f57c5cf"
      },
      "execution_count": 17,
      "outputs": [
        {
          "output_type": "execute_result",
          "data": {
            "text/plain": [
              "(array([ 70,  74,  78,  82,  86,  90,  94,  98, 102, 106]),\n",
              " array([[ 74.58521 ],\n",
              "        [ 79.47131 ],\n",
              "        [ 84.357414],\n",
              "        [ 89.24351 ],\n",
              "        [ 94.12961 ],\n",
              "        [ 99.0157  ],\n",
              "        [103.9018  ],\n",
              "        [108.7879  ],\n",
              "        [113.673996],\n",
              "        [118.5601  ]], dtype=float32))"
            ]
          },
          "metadata": {},
          "execution_count": 17
        }
      ]
    },
    {
      "cell_type": "code",
      "source": [
        "y_test.shape, y_preds.shape"
      ],
      "metadata": {
        "colab": {
          "base_uri": "https://localhost:8080/"
        },
        "id": "cAvcjAuyg41D",
        "outputId": "fce1399b-0dc7-461a-f44e-49aa5972516d"
      },
      "execution_count": 18,
      "outputs": [
        {
          "output_type": "execute_result",
          "data": {
            "text/plain": [
              "((10,), (10, 1))"
            ]
          },
          "metadata": {},
          "execution_count": 18
        }
      ]
    },
    {
      "cell_type": "markdown",
      "source": [
        "Calaculating Mean Absolute error"
      ],
      "metadata": {
        "id": "AcnrE7K0hOws"
      }
    },
    {
      "cell_type": "code",
      "source": [
        "mae = tf.metrics.mean_absolute_error(y_true=y_test,\n",
        "                                   y_pred=y_preds.squeeze())\n",
        "mae"
      ],
      "metadata": {
        "colab": {
          "base_uri": "https://localhost:8080/"
        },
        "id": "V8lV4UlOhGYc",
        "outputId": "c8cf27c6-c0eb-4428-9bf4-c907f1ea0acc"
      },
      "execution_count": 19,
      "outputs": [
        {
          "output_type": "execute_result",
          "data": {
            "text/plain": [
              "<tf.Tensor: shape=(), dtype=float32, numpy=8.572656>"
            ]
          },
          "metadata": {},
          "execution_count": 19
        }
      ]
    },
    {
      "cell_type": "markdown",
      "source": [
        "Calaculating Mean Squared error"
      ],
      "metadata": {
        "id": "27wqXLvZhTkD"
      }
    },
    {
      "cell_type": "code",
      "source": [
        "mae = tf.metrics.mean_squared_error(y_true=y_test,\n",
        "                                   y_pred=y_preds.squeeze())\n",
        "mae"
      ],
      "metadata": {
        "colab": {
          "base_uri": "https://localhost:8080/"
        },
        "id": "MaaZiVrxhWe2",
        "outputId": "1537db1b-30dd-4298-f238-d11cda41071f"
      },
      "execution_count": 20,
      "outputs": [
        {
          "output_type": "execute_result",
          "data": {
            "text/plain": [
              "<tf.Tensor: shape=(), dtype=float32, numpy=79.96806>"
            ]
          },
          "metadata": {},
          "execution_count": 20
        }
      ]
    },
    {
      "cell_type": "code",
      "source": [
        "def mae (y_test, y_pred):\n",
        "  return tf.metrics.mean_absolute_error (y_test, y_pred)\n",
        "\n",
        "def mse (y_test, y_pred):\n",
        "  return tf.metrics.mean_squared_error (y_test, y_pred)\n"
      ],
      "metadata": {
        "id": "zMGQC220j4dc"
      },
      "execution_count": 21,
      "outputs": []
    },
    {
      "cell_type": "markdown",
      "source": [
        "Now we will build 3 models and study the output"
      ],
      "metadata": {
        "id": "zpDgfHy5kkiq"
      }
    },
    {
      "cell_type": "markdown",
      "source": [
        "Model 1 : 1 Layer, trained for 100 Epochs"
      ],
      "metadata": {
        "id": "9qeNPUopkuHA"
      }
    },
    {
      "cell_type": "code",
      "source": [
        "tf.random.set_seed(42)\n",
        "model1 = tf.keras.Sequential([\n",
        "    tf.keras.layers.Dense(1)\n",
        "])\n",
        "\n",
        "model1.compile(loss=tf.keras.losses.mae,\n",
        "                optimizer=tf.keras.optimizers.SGD(),\n",
        "                metrics=[\"mae\"])\n",
        "\n",
        "model1.fit(tf.expand_dims(X_train, axis=-1), y_train, epochs=100)"
      ],
      "metadata": {
        "colab": {
          "base_uri": "https://localhost:8080/"
        },
        "id": "1ZcycbFWkUCp",
        "outputId": "70f41388-8ff0-46ee-95d6-c383c6d6a4dc"
      },
      "execution_count": 22,
      "outputs": [
        {
          "output_type": "stream",
          "name": "stdout",
          "text": [
            "Epoch 1/100\n",
            "2/2 [==============================] - 2s 38ms/step - loss: 92.8347 - mae: 92.8347\n",
            "Epoch 2/100\n",
            "2/2 [==============================] - 0s 23ms/step - loss: 57.3792 - mae: 57.3792\n",
            "Epoch 3/100\n",
            "2/2 [==============================] - 0s 17ms/step - loss: 20.6648 - mae: 20.6648\n",
            "Epoch 4/100\n",
            "2/2 [==============================] - 0s 34ms/step - loss: 9.3718 - mae: 9.3718\n",
            "Epoch 5/100\n",
            "2/2 [==============================] - 0s 14ms/step - loss: 10.2463 - mae: 10.2463\n",
            "Epoch 6/100\n",
            "2/2 [==============================] - 0s 12ms/step - loss: 9.5036 - mae: 9.5036\n",
            "Epoch 7/100\n",
            "2/2 [==============================] - 0s 15ms/step - loss: 8.6354 - mae: 8.6354\n",
            "Epoch 8/100\n",
            "2/2 [==============================] - 0s 19ms/step - loss: 9.0754 - mae: 9.0754\n",
            "Epoch 9/100\n",
            "2/2 [==============================] - 0s 11ms/step - loss: 18.8639 - mae: 18.8639\n",
            "Epoch 10/100\n",
            "2/2 [==============================] - 0s 12ms/step - loss: 10.1958 - mae: 10.1958\n",
            "Epoch 11/100\n",
            "2/2 [==============================] - 0s 14ms/step - loss: 8.4461 - mae: 8.4461\n",
            "Epoch 12/100\n",
            "2/2 [==============================] - 0s 42ms/step - loss: 10.7345 - mae: 10.7345\n",
            "Epoch 13/100\n",
            "2/2 [==============================] - 0s 11ms/step - loss: 9.8426 - mae: 9.8426\n",
            "Epoch 14/100\n",
            "2/2 [==============================] - 0s 12ms/step - loss: 16.1259 - mae: 16.1259\n",
            "Epoch 15/100\n",
            "2/2 [==============================] - 0s 9ms/step - loss: 11.3499 - mae: 11.3499\n",
            "Epoch 16/100\n",
            "2/2 [==============================] - 0s 9ms/step - loss: 8.5882 - mae: 8.5882\n",
            "Epoch 17/100\n",
            "2/2 [==============================] - 0s 11ms/step - loss: 13.7180 - mae: 13.7180\n",
            "Epoch 18/100\n",
            "2/2 [==============================] - 0s 11ms/step - loss: 11.5598 - mae: 11.5598\n",
            "Epoch 19/100\n",
            "2/2 [==============================] - 0s 11ms/step - loss: 17.8514 - mae: 17.8514\n",
            "Epoch 20/100\n",
            "2/2 [==============================] - 0s 16ms/step - loss: 14.9866 - mae: 14.9866\n",
            "Epoch 21/100\n",
            "2/2 [==============================] - 0s 7ms/step - loss: 10.8712 - mae: 10.8712\n",
            "Epoch 22/100\n",
            "2/2 [==============================] - 0s 7ms/step - loss: 8.6234 - mae: 8.6234\n",
            "Epoch 23/100\n",
            "2/2 [==============================] - 0s 7ms/step - loss: 9.7349 - mae: 9.7349\n",
            "Epoch 24/100\n",
            "2/2 [==============================] - 0s 13ms/step - loss: 10.9818 - mae: 10.9818\n",
            "Epoch 25/100\n",
            "2/2 [==============================] - 0s 9ms/step - loss: 9.1881 - mae: 9.1881\n",
            "Epoch 26/100\n",
            "2/2 [==============================] - 0s 7ms/step - loss: 13.2190 - mae: 13.2190\n",
            "Epoch 27/100\n",
            "2/2 [==============================] - 0s 9ms/step - loss: 10.6923 - mae: 10.6923\n",
            "Epoch 28/100\n",
            "2/2 [==============================] - 0s 7ms/step - loss: 12.9134 - mae: 12.9134\n",
            "Epoch 29/100\n",
            "2/2 [==============================] - 0s 7ms/step - loss: 9.5365 - mae: 9.5365\n",
            "Epoch 30/100\n",
            "2/2 [==============================] - 0s 11ms/step - loss: 16.4348 - mae: 16.4348\n",
            "Epoch 31/100\n",
            "2/2 [==============================] - 0s 28ms/step - loss: 23.5776 - mae: 23.5776\n",
            "Epoch 32/100\n",
            "2/2 [==============================] - 0s 14ms/step - loss: 7.6349 - mae: 7.6349\n",
            "Epoch 33/100\n",
            "2/2 [==============================] - 0s 28ms/step - loss: 9.3309 - mae: 9.3309\n",
            "Epoch 34/100\n",
            "2/2 [==============================] - 0s 18ms/step - loss: 13.6977 - mae: 13.6977\n",
            "Epoch 35/100\n",
            "2/2 [==============================] - 0s 14ms/step - loss: 11.1824 - mae: 11.1824\n",
            "Epoch 36/100\n",
            "2/2 [==============================] - 0s 18ms/step - loss: 13.4017 - mae: 13.4017\n",
            "Epoch 37/100\n",
            "2/2 [==============================] - 0s 10ms/step - loss: 9.4764 - mae: 9.4764\n",
            "Epoch 38/100\n",
            "2/2 [==============================] - 0s 16ms/step - loss: 10.1291 - mae: 10.1291\n",
            "Epoch 39/100\n",
            "2/2 [==============================] - 0s 41ms/step - loss: 10.2346 - mae: 10.2346\n",
            "Epoch 40/100\n",
            "2/2 [==============================] - 0s 40ms/step - loss: 10.9775 - mae: 10.9775\n",
            "Epoch 41/100\n",
            "2/2 [==============================] - 0s 10ms/step - loss: 7.9555 - mae: 7.9555\n",
            "Epoch 42/100\n",
            "2/2 [==============================] - 0s 16ms/step - loss: 10.6069 - mae: 10.6069\n",
            "Epoch 43/100\n",
            "2/2 [==============================] - 0s 23ms/step - loss: 7.2378 - mae: 7.2378\n",
            "Epoch 44/100\n",
            "2/2 [==============================] - 0s 12ms/step - loss: 8.0199 - mae: 8.0199\n",
            "Epoch 45/100\n",
            "2/2 [==============================] - 0s 15ms/step - loss: 9.8137 - mae: 9.8137\n",
            "Epoch 46/100\n",
            "2/2 [==============================] - 0s 14ms/step - loss: 8.8884 - mae: 8.8884\n",
            "Epoch 47/100\n",
            "2/2 [==============================] - 0s 31ms/step - loss: 7.6010 - mae: 7.6010\n",
            "Epoch 48/100\n",
            "2/2 [==============================] - 0s 8ms/step - loss: 8.6032 - mae: 8.6032\n",
            "Epoch 49/100\n",
            "2/2 [==============================] - 0s 13ms/step - loss: 10.0186 - mae: 10.0186\n",
            "Epoch 50/100\n",
            "2/2 [==============================] - 0s 11ms/step - loss: 9.0551 - mae: 9.0551\n",
            "Epoch 51/100\n",
            "2/2 [==============================] - 0s 10ms/step - loss: 10.6874 - mae: 10.6874\n",
            "Epoch 52/100\n",
            "2/2 [==============================] - 0s 12ms/step - loss: 15.3242 - mae: 15.3242\n",
            "Epoch 53/100\n",
            "2/2 [==============================] - 0s 12ms/step - loss: 14.3413 - mae: 14.3413\n",
            "Epoch 54/100\n",
            "2/2 [==============================] - 0s 12ms/step - loss: 21.6381 - mae: 21.6381\n",
            "Epoch 55/100\n",
            "2/2 [==============================] - 0s 12ms/step - loss: 15.9939 - mae: 15.9939\n",
            "Epoch 56/100\n",
            "2/2 [==============================] - 0s 11ms/step - loss: 10.3159 - mae: 10.3159\n",
            "Epoch 57/100\n",
            "2/2 [==============================] - 0s 11ms/step - loss: 9.7882 - mae: 9.7882\n",
            "Epoch 58/100\n",
            "2/2 [==============================] - 0s 11ms/step - loss: 9.0755 - mae: 9.0755\n",
            "Epoch 59/100\n",
            "2/2 [==============================] - 0s 16ms/step - loss: 8.2767 - mae: 8.2767\n",
            "Epoch 60/100\n",
            "2/2 [==============================] - 0s 34ms/step - loss: 9.3776 - mae: 9.3776\n",
            "Epoch 61/100\n",
            "2/2 [==============================] - 0s 10ms/step - loss: 11.1836 - mae: 11.1836\n",
            "Epoch 62/100\n",
            "2/2 [==============================] - 0s 20ms/step - loss: 12.1054 - mae: 12.1054\n",
            "Epoch 63/100\n",
            "2/2 [==============================] - 0s 19ms/step - loss: 7.2929 - mae: 7.2929\n",
            "Epoch 64/100\n",
            "2/2 [==============================] - 0s 25ms/step - loss: 12.4419 - mae: 12.4419\n",
            "Epoch 65/100\n",
            "2/2 [==============================] - 0s 17ms/step - loss: 10.5194 - mae: 10.5194\n",
            "Epoch 66/100\n",
            "2/2 [==============================] - 0s 14ms/step - loss: 15.6366 - mae: 15.6366\n",
            "Epoch 67/100\n",
            "2/2 [==============================] - 0s 14ms/step - loss: 10.0400 - mae: 10.0400\n",
            "Epoch 68/100\n",
            "2/2 [==============================] - 0s 11ms/step - loss: 8.7491 - mae: 8.7491\n",
            "Epoch 69/100\n",
            "2/2 [==============================] - 0s 11ms/step - loss: 13.5156 - mae: 13.5156\n",
            "Epoch 70/100\n",
            "2/2 [==============================] - 0s 11ms/step - loss: 7.4955 - mae: 7.4955\n",
            "Epoch 71/100\n",
            "2/2 [==============================] - 0s 12ms/step - loss: 12.2463 - mae: 12.2463\n",
            "Epoch 72/100\n",
            "2/2 [==============================] - 0s 13ms/step - loss: 8.5611 - mae: 8.5611\n",
            "Epoch 73/100\n",
            "2/2 [==============================] - 0s 14ms/step - loss: 7.0655 - mae: 7.0655\n",
            "Epoch 74/100\n",
            "2/2 [==============================] - 0s 24ms/step - loss: 9.9600 - mae: 9.9600\n",
            "Epoch 75/100\n",
            "2/2 [==============================] - 0s 11ms/step - loss: 9.9580 - mae: 9.9580\n",
            "Epoch 76/100\n",
            "2/2 [==============================] - 0s 23ms/step - loss: 10.1255 - mae: 10.1255\n",
            "Epoch 77/100\n",
            "2/2 [==============================] - 0s 24ms/step - loss: 12.9651 - mae: 12.9651\n",
            "Epoch 78/100\n",
            "2/2 [==============================] - 0s 16ms/step - loss: 11.1742 - mae: 11.1742\n",
            "Epoch 79/100\n",
            "2/2 [==============================] - 0s 12ms/step - loss: 14.7267 - mae: 14.7267\n",
            "Epoch 80/100\n",
            "2/2 [==============================] - 0s 12ms/step - loss: 8.9461 - mae: 8.9461\n",
            "Epoch 81/100\n",
            "2/2 [==============================] - 0s 19ms/step - loss: 10.7879 - mae: 10.7879\n",
            "Epoch 82/100\n",
            "2/2 [==============================] - 0s 9ms/step - loss: 8.4182 - mae: 8.4182\n",
            "Epoch 83/100\n",
            "2/2 [==============================] - 0s 12ms/step - loss: 9.2443 - mae: 9.2443\n",
            "Epoch 84/100\n",
            "2/2 [==============================] - 0s 12ms/step - loss: 8.9659 - mae: 8.9659\n",
            "Epoch 85/100\n",
            "2/2 [==============================] - 0s 13ms/step - loss: 13.2017 - mae: 13.2017\n",
            "Epoch 86/100\n",
            "2/2 [==============================] - 0s 11ms/step - loss: 13.7267 - mae: 13.7267\n",
            "Epoch 87/100\n",
            "2/2 [==============================] - 0s 14ms/step - loss: 13.2115 - mae: 13.2115\n",
            "Epoch 88/100\n",
            "2/2 [==============================] - 0s 12ms/step - loss: 11.5401 - mae: 11.5401\n",
            "Epoch 89/100\n",
            "2/2 [==============================] - 0s 9ms/step - loss: 7.8302 - mae: 7.8302\n",
            "Epoch 90/100\n",
            "2/2 [==============================] - 0s 12ms/step - loss: 10.9571 - mae: 10.9571\n",
            "Epoch 91/100\n",
            "2/2 [==============================] - 0s 18ms/step - loss: 6.7754 - mae: 6.7754\n",
            "Epoch 92/100\n",
            "2/2 [==============================] - 0s 18ms/step - loss: 10.1499 - mae: 10.1499\n",
            "Epoch 93/100\n",
            "2/2 [==============================] - 0s 8ms/step - loss: 7.6286 - mae: 7.6286\n",
            "Epoch 94/100\n",
            "2/2 [==============================] - 0s 9ms/step - loss: 9.2620 - mae: 9.2620\n",
            "Epoch 95/100\n",
            "2/2 [==============================] - 0s 11ms/step - loss: 10.8494 - mae: 10.8494\n",
            "Epoch 96/100\n",
            "2/2 [==============================] - 0s 13ms/step - loss: 10.3196 - mae: 10.3196\n",
            "Epoch 97/100\n",
            "2/2 [==============================] - 0s 12ms/step - loss: 7.6995 - mae: 7.6995\n",
            "Epoch 98/100\n",
            "2/2 [==============================] - 0s 7ms/step - loss: 8.6362 - mae: 8.6362\n",
            "Epoch 99/100\n",
            "2/2 [==============================] - 0s 10ms/step - loss: 9.4150 - mae: 9.4150\n",
            "Epoch 100/100\n",
            "2/2 [==============================] - 0s 11ms/step - loss: 8.8611 - mae: 8.8611\n"
          ]
        },
        {
          "output_type": "execute_result",
          "data": {
            "text/plain": [
              "<keras.callbacks.History at 0x7e75694629e0>"
            ]
          },
          "metadata": {},
          "execution_count": 22
        }
      ]
    },
    {
      "cell_type": "code",
      "source": [
        "y_preds_1 = model1.predict(X_test)\n",
        "plot_predictions(predictions=y_preds_1)"
      ],
      "metadata": {
        "colab": {
          "base_uri": "https://localhost:8080/",
          "height": 617
        },
        "id": "-JTZKgQSmuNW",
        "outputId": "c8c04421-8e49-49ae-95d4-4fec8a8d7c78"
      },
      "execution_count": 23,
      "outputs": [
        {
          "output_type": "stream",
          "name": "stdout",
          "text": [
            "1/1 [==============================] - 0s 80ms/step\n"
          ]
        },
        {
          "output_type": "display_data",
          "data": {
            "text/plain": [
              "<Figure size 1000x700 with 1 Axes>"
            ],
            "image/png": "[encoded data removed]"
          },
          "metadata": {}
        }
      ]
    },
    {
      "cell_type": "code",
      "source": [
        "mae_1 = mae(y_test, y_preds_1.squeeze()).numpy()\n",
        "mse_1 = mse(y_test, y_preds_1.squeeze()).numpy()\n",
        "mae_1, mse_1"
      ],
      "metadata": {
        "colab": {
          "base_uri": "https://localhost:8080/"
        },
        "id": "TEqdlsqYm_Od",
        "outputId": "940d3513-d04a-4baf-9be0-c1b18d411004"
      },
      "execution_count": 24,
      "outputs": [
        {
          "output_type": "execute_result",
          "data": {
            "text/plain": [
              "(8.542308, 79.44607)"
            ]
          },
          "metadata": {},
          "execution_count": 24
        }
      ]
    },
    {
      "cell_type": "code",
      "source": [
        "tf.random.set_seed(42)\n",
        "model2 = tf.keras.Sequential([\n",
        "    tf.keras.layers.Dense(1),\n",
        "    tf.keras.layers.Dense(1)\n",
        "])\n",
        "\n",
        "model2.compile (loss=tf.keras.losses.mae,\n",
        "                optimizer=tf.keras.optimizers.SGD(),\n",
        "                metrics=[\"mae\"])\n",
        "\n",
        "model2.fit (tf.expand_dims(X_train, axis=-1), y_train, epochs=100, verbose=0)"
      ],
      "metadata": {
        "colab": {
          "base_uri": "https://localhost:8080/"
        },
        "id": "0bHNng2pn0zZ",
        "outputId": "70e8e0b5-40c9-4b28-cdf0-f98a5eed6c40"
      },
      "execution_count": 25,
      "outputs": [
        {
          "output_type": "execute_result",
          "data": {
            "text/plain": [
              "<keras.callbacks.History at 0x7e75689bdc00>"
            ]
          },
          "metadata": {},
          "execution_count": 25
        }
      ]
    },
    {
      "cell_type": "code",
      "source": [
        "y_preds_2 = model2.predict(X_test)\n",
        "plot_predictions(predictions=y_preds_2)"
      ],
      "metadata": {
        "colab": {
          "base_uri": "https://localhost:8080/",
          "height": 617
        },
        "id": "1zQtvfq3py70",
        "outputId": "6319e2dc-836e-4364-8fe5-72f92cde42c4"
      },
      "execution_count": 26,
      "outputs": [
        {
          "output_type": "stream",
          "name": "stdout",
          "text": [
            "1/1 [==============================] - 0s 108ms/step\n"
          ]
        },
        {
          "output_type": "display_data",
          "data": {
            "text/plain": [
              "<Figure size 1000x700 with 1 Axes>"
            ],
            "image/png": "[encoded data removed]"
          },
          "metadata": {}
        }
      ]
    },
    {
      "cell_type": "code",
      "source": [
        "mae_2 = mae(y_test, y_preds_2.squeeze()).numpy()\n",
        "mse_2 = mse(y_test, y_preds_2.squeeze()).numpy()\n",
        "mae_2, mse_2"
      ],
      "metadata": {
        "colab": {
          "base_uri": "https://localhost:8080/"
        },
        "id": "Y-keevXmp8fG",
        "outputId": "6ae4e2a1-e98b-4fbc-cd53-618cca790412"
      },
      "execution_count": 27,
      "outputs": [
        {
          "output_type": "execute_result",
          "data": {
            "text/plain": [
              "(10.938494, 127.674095)"
            ]
          },
          "metadata": {},
          "execution_count": 27
        }
      ]
    },
    {
      "cell_type": "code",
      "source": [
        "tf.random.set_seed(42)\n",
        "model3 = tf.keras.Sequential([\n",
        "    tf.keras.layers.Dense(1),\n",
        "    tf.keras.layers.Dense(1)\n",
        "])\n",
        "\n",
        "model3.compile (loss=tf.keras.losses.mae,\n",
        "                optimizer=tf.keras.optimizers.SGD(),\n",
        "                metrics=[\"mae\"])\n",
        "\n",
        "model3.fit (tf.expand_dims(X_train, axis=-1), y_train, epochs=500, verbose=0)"
      ],
      "metadata": {
        "colab": {
          "base_uri": "https://localhost:8080/"
        },
        "id": "r1SoS0IZp_hq",
        "outputId": "7301b0c8-dd3b-4063-e36a-21d1f4bb5aa2"
      },
      "execution_count": 28,
      "outputs": [
        {
          "output_type": "execute_result",
          "data": {
            "text/plain": [
              "<keras.callbacks.History at 0x7e75fa3aa1d0>"
            ]
          },
          "metadata": {},
          "execution_count": 28
        }
      ]
    },
    {
      "cell_type": "code",
      "source": [
        "y_preds_3 = model3.predict(X_test)\n",
        "plot_predictions(predictions=y_preds_3)"
      ],
      "metadata": {
        "colab": {
          "base_uri": "https://localhost:8080/",
          "height": 617
        },
        "id": "JrPVMXMpqLY5",
        "outputId": "dc1efc0c-30ae-4644-aa0f-34bf2b159384"
      },
      "execution_count": 29,
      "outputs": [
        {
          "output_type": "stream",
          "name": "stdout",
          "text": [
            "1/1 [==============================] - 0s 249ms/step\n"
          ]
        },
        {
          "output_type": "display_data",
          "data": {
            "text/plain": [
              "<Figure size 1000x700 with 1 Axes>"
            ],
            "image/png": "[encoded data removed]"
          },
          "metadata": {}
        }
      ]
    },
    {
      "cell_type": "code",
      "source": [
        "mae_3 = mae(y_test, y_preds_3.squeeze()).numpy()\n",
        "mse_3 = mse(y_test, y_preds_3.squeeze()).numpy()\n",
        "mae_3, mse_3"
      ],
      "metadata": {
        "colab": {
          "base_uri": "https://localhost:8080/"
        },
        "id": "9cr1so81qVMs",
        "outputId": "229f0db7-da28-4841-b0cd-256e8d4b3917"
      },
      "execution_count": 30,
      "outputs": [
        {
          "output_type": "execute_result",
          "data": {
            "text/plain": [
              "(67.4275, 4629.472)"
            ]
          },
          "metadata": {},
          "execution_count": 30
        }
      ]
    },
    {
      "cell_type": "code",
      "source": [
        "model_results = [[\"model1\", mae_1, mse_1],\n",
        "                 [\"model2\", mae_2, mse_2],\n",
        "                 [\"model3\", mae_3, mse_3]]"
      ],
      "metadata": {
        "id": "gVdFYtuiq1xE"
      },
      "execution_count": 31,
      "outputs": []
    },
    {
      "cell_type": "code",
      "source": [
        "import pandas as pd\n",
        "all_results = pd.DataFrame(model_results, columns=[\"model\", \"mae\", \"mse\"])\n",
        "all_results"
      ],
      "metadata": {
        "colab": {
          "base_uri": "https://localhost:8080/",
          "height": 143
        },
        "id": "0I0N7GOfwV_T",
        "outputId": "24ae2f46-0843-4b82-c489-8725a44e4b82"
      },
      "execution_count": 32,
      "outputs": [
        {
          "output_type": "execute_result",
          "data": {
            "text/plain": [
              "    model        mae          mse\n",
              "0  model1   8.542308    79.446068\n",
              "1  model2  10.938494   127.674095\n",
              "2  model3  67.427498  4629.472168"
            ],
            "text/html": [
              "\n",
              "  <div id=\"df-a3d77e86-0a34-401d-8924-650ed624a990\" class=\"colab-df-container\">\n",
              "    <div>\n",
              "<style scoped>\n",
              "    .dataframe tbody tr th:only-of-type {\n",
              "        vertical-align: middle;\n",
              "    }\n",
              "\n",
              "    .dataframe tbody tr th {\n",
              "        vertical-align: top;\n",
              "    }\n",
              "\n",
              "    .dataframe thead th {\n",
              "        text-align: right;\n",
              "    }\n",
              "</style>\n",
              "<table border=\"1\" class=\"dataframe\">\n",
              "  <thead>\n",
              "    <tr style=\"text-align: right;\">\n",
              "      <th></th>\n",
              "      <th>model</th>\n",
              "      <th>mae</th>\n",
              "      <th>mse</th>\n",
              "    </tr>\n",
              "  </thead>\n",
              "  <tbody>\n",
              "    <tr>\n",
              "      <th>0</th>\n",
              "      <td>model1</td>\n",
              "      <td>8.542308</td>\n",
              "      <td>79.446068</td>\n",
              "    </tr>\n",
              "    <tr>\n",
              "      <th>1</th>\n",
              "      <td>model2</td>\n",
              "      <td>10.938494</td>\n",
              "      <td>127.674095</td>\n",
              "    </tr>\n",
              "    <tr>\n",
              "      <th>2</th>\n",
              "      <td>model3</td>\n",
              "      <td>67.427498</td>\n",
              "      <td>4629.472168</td>\n",
              "    </tr>\n",
              "  </tbody>\n",
              "</table>\n",
              "</div>\n",
              "    <div class=\"colab-df-buttons\">\n",
              "\n",
              "  <div class=\"colab-df-container\">\n",
              "    <button class=\"colab-df-convert\" onclick=\"convertToInteractive('df-a3d77e86-0a34-401d-8924-650ed624a990')\"\n",
              "            title=\"Convert this dataframe to an interactive table.\"\n",
              "            style=\"display:none;\">\n",
              "\n",
              "  <svg xmlns=\"http://www.w3.org/2000/svg\" height=\"24px\" viewBox=\"0 -960 960 960\">\n",
              "    <path d=\"M120-120v-720h720v720H120Zm60-500h600v-160H180v160Zm220 220h160v-160H400v160Zm0 220h160v-160H400v160ZM180-400h160v-160H180v160Zm440 0h160v-160H620v160ZM180-180h160v-160H180v160Zm440 0h160v-160H620v160Z\"/>\n",
              "  </svg>\n",
              "    </button>\n",
              "\n",
              "  <style>\n",
              "    .colab-df-container {\n",
              "      display:flex;\n",
              "      gap: 12px;\n",
              "    }\n",
              "\n",
              "    .colab-df-convert {\n",
              "      background-color: #E8F0FE;\n",
              "      border: none;\n",
              "      border-radius: 50%;\n",
              "      cursor: pointer;\n",
              "      display: none;\n",
              "      fill: #1967D2;\n",
              "      height: 32px;\n",
              "      padding: 0 0 0 0;\n",
              "      width: 32px;\n",
              "    }\n",
              "\n",
              "    .colab-df-convert:hover {\n",
              "      background-color: #E2EBFA;\n",
              "      box-shadow: 0px 1px 2px rgba(60, 64, 67, 0.3), 0px 1px 3px 1px rgba(60, 64, 67, 0.15);\n",
              "      fill: #174EA6;\n",
              "    }\n",
              "\n",
              "    .colab-df-buttons div {\n",
              "      margin-bottom: 4px;\n",
              "    }\n",
              "\n",
              "    [theme=dark] .colab-df-convert {\n",
              "      background-color: #3B4455;\n",
              "      fill: #D2E3FC;\n",
              "    }\n",
              "\n",
              "    [theme=dark] .colab-df-convert:hover {\n",
              "      background-color: #434B5C;\n",
              "      box-shadow: 0px 1px 3px 1px rgba(0, 0, 0, 0.15);\n",
              "      filter: drop-shadow(0px 1px 2px rgba(0, 0, 0, 0.3));\n",
              "      fill: #FFFFFF;\n",
              "    }\n",
              "  </style>\n",
              "\n",
              "    <script>\n",
              "      const buttonEl =\n",
              "        document.querySelector('#df-a3d77e86-0a34-401d-8924-650ed624a990 button.colab-df-convert');\n",
              "      buttonEl.style.display =\n",
              "        google.colab.kernel.accessAllowed ? 'block' : 'none';\n",
              "\n",
              "      async function convertToInteractive(key) {\n",
              "        const element = document.querySelector('#df-a3d77e86-0a34-401d-8924-650ed624a990');\n",
              "        const dataTable =\n",
              "          await google.colab.kernel.invokeFunction('convertToInteractive',\n",
              "                                                    [key], {});\n",
              "        if (!dataTable) return;\n",
              "\n",
              "        const docLinkHtml = 'Like what you see? Visit the ' +\n",
              "          '<a target=\"_blank\" href=https://colab.research.google.com/notebooks/data_table.ipynb>data table notebook</a>'\n",
              "          + ' to learn more about interactive tables.';\n",
              "        element.innerHTML = '';\n",
              "        dataTable['output_type'] = 'display_data';\n",
              "        await google.colab.output.renderOutput(dataTable, element);\n",
              "        const docLink = document.createElement('div');\n",
              "        docLink.innerHTML = docLinkHtml;\n",
              "        element.appendChild(docLink);\n",
              "      }\n",
              "    </script>\n",
              "  </div>\n",
              "\n",
              "    </div>\n",
              "  </div>\n"
            ]
          },
          "metadata": {},
          "execution_count": 32
        }
      ]
    },
    {
      "cell_type": "code",
      "source": [
        "model2.save('best_model_SavedModel_format')"
      ],
      "metadata": {
        "colab": {
          "base_uri": "https://localhost:8080/"
        },
        "id": "isFJx692wrW1",
        "outputId": "1a8847d6-0503-40a4-b666-5004164e7f87"
      },
      "execution_count": 35,
      "outputs": [
        {
          "output_type": "stream",
          "name": "stderr",
          "text": [
            "WARNING:absl:Found untraced functions such as _update_step_xla while saving (showing 1 of 1). These functions will not be directly callable after loading.\n"
          ]
        }
      ]
    },
    {
      "cell_type": "code",
      "source": [
        "!ls best_model_SavedModel_format"
      ],
      "metadata": {
        "colab": {
          "base_uri": "https://localhost:8080/"
        },
        "id": "jCu2Rh2OmXgz",
        "outputId": "2b1babc8-dbde-46fb-9604-2dd4c263a88f"
      },
      "execution_count": 36,
      "outputs": [
        {
          "output_type": "stream",
          "name": "stdout",
          "text": [
            "assets\tfingerprint.pb\tkeras_metadata.pb  saved_model.pb  variables\n"
          ]
        }
      ]
    },
    {
      "cell_type": "code",
      "source": [
        "loaded_saved_model = tf.keras.models.load_model(\"best_model_SavedModel_format\")\n",
        "loaded_saved_model.summary()"
      ],
      "metadata": {
        "colab": {
          "base_uri": "https://localhost:8080/"
        },
        "id": "bcm8U0A4ml41",
        "outputId": "a6295fbb-7121-40a0-8867-365d001a4880"
      },
      "execution_count": 37,
      "outputs": [
        {
          "output_type": "stream",
          "name": "stdout",
          "text": [
            "Model: \"sequential_2\"\n",
            "_________________________________________________________________\n",
            " Layer (type)                Output Shape              Param #   \n",
            "=================================================================\n",
            " dense_2 (Dense)             (None, 1)                 2         \n",
            "                                                                 \n",
            " dense_3 (Dense)             (None, 1)                 2         \n",
            "                                                                 \n",
            "=================================================================\n",
            "Total params: 4\n",
            "Trainable params: 4\n",
            "Non-trainable params: 0\n",
            "_________________________________________________________________\n"
          ]
        }
      ]
    }
  ]
}